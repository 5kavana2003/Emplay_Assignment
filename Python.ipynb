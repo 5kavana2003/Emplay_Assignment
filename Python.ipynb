{
  "nbformat": 4,
  "nbformat_minor": 0,
  "metadata": {
    "colab": {
      "provenance": []
    },
    "kernelspec": {
      "name": "python3",
      "display_name": "Python 3"
    },
    "language_info": {
      "name": "python"
    }
  },
  "cells": [
    {
      "cell_type": "code",
      "execution_count": 1,
      "metadata": {
        "colab": {
          "base_uri": "https://localhost:8080/"
        },
        "id": "IFPeh8HWYCgg",
        "outputId": "89c221f3-55b7-4991-c1a6-fa62b5150adf"
      },
      "outputs": [
        {
          "output_type": "stream",
          "name": "stdout",
          "text": [
            "Collecting pdfplumber\n",
            "  Downloading pdfplumber-0.11.4-py3-none-any.whl.metadata (41 kB)\n",
            "\u001b[2K     \u001b[90m━━━━━━━━━━━━━━━━━━━━━━━━━━━━━━━━━━━━━━━━\u001b[0m \u001b[32m42.0/42.0 kB\u001b[0m \u001b[31m2.0 MB/s\u001b[0m eta \u001b[36m0:00:00\u001b[0m\n",
            "\u001b[?25hRequirement already satisfied: beautifulsoup4 in /usr/local/lib/python3.10/dist-packages (4.12.3)\n",
            "Requirement already satisfied: requests in /usr/local/lib/python3.10/dist-packages (2.32.3)\n",
            "Requirement already satisfied: pandas in /usr/local/lib/python3.10/dist-packages (2.2.2)\n",
            "Collecting pdfminer.six==20231228 (from pdfplumber)\n",
            "  Downloading pdfminer.six-20231228-py3-none-any.whl.metadata (4.2 kB)\n",
            "Requirement already satisfied: Pillow>=9.1 in /usr/local/lib/python3.10/dist-packages (from pdfplumber) (11.0.0)\n",
            "Collecting pypdfium2>=4.18.0 (from pdfplumber)\n",
            "  Downloading pypdfium2-4.30.0-py3-none-manylinux_2_17_x86_64.manylinux2014_x86_64.whl.metadata (48 kB)\n",
            "\u001b[2K     \u001b[90m━━━━━━━━━━━━━━━━━━━━━━━━━━━━━━━━━━━━━━━━\u001b[0m \u001b[32m48.5/48.5 kB\u001b[0m \u001b[31m1.8 MB/s\u001b[0m eta \u001b[36m0:00:00\u001b[0m\n",
            "\u001b[?25hRequirement already satisfied: charset-normalizer>=2.0.0 in /usr/local/lib/python3.10/dist-packages (from pdfminer.six==20231228->pdfplumber) (3.4.0)\n",
            "Requirement already satisfied: cryptography>=36.0.0 in /usr/local/lib/python3.10/dist-packages (from pdfminer.six==20231228->pdfplumber) (43.0.3)\n",
            "Requirement already satisfied: soupsieve>1.2 in /usr/local/lib/python3.10/dist-packages (from beautifulsoup4) (2.6)\n",
            "Requirement already satisfied: idna<4,>=2.5 in /usr/local/lib/python3.10/dist-packages (from requests) (3.10)\n",
            "Requirement already satisfied: urllib3<3,>=1.21.1 in /usr/local/lib/python3.10/dist-packages (from requests) (2.2.3)\n",
            "Requirement already satisfied: certifi>=2017.4.17 in /usr/local/lib/python3.10/dist-packages (from requests) (2024.8.30)\n",
            "Requirement already satisfied: numpy>=1.22.4 in /usr/local/lib/python3.10/dist-packages (from pandas) (1.26.4)\n",
            "Requirement already satisfied: python-dateutil>=2.8.2 in /usr/local/lib/python3.10/dist-packages (from pandas) (2.8.2)\n",
            "Requirement already satisfied: pytz>=2020.1 in /usr/local/lib/python3.10/dist-packages (from pandas) (2024.2)\n",
            "Requirement already satisfied: tzdata>=2022.7 in /usr/local/lib/python3.10/dist-packages (from pandas) (2024.2)\n",
            "Requirement already satisfied: six>=1.5 in /usr/local/lib/python3.10/dist-packages (from python-dateutil>=2.8.2->pandas) (1.16.0)\n",
            "Requirement already satisfied: cffi>=1.12 in /usr/local/lib/python3.10/dist-packages (from cryptography>=36.0.0->pdfminer.six==20231228->pdfplumber) (1.17.1)\n",
            "Requirement already satisfied: pycparser in /usr/local/lib/python3.10/dist-packages (from cffi>=1.12->cryptography>=36.0.0->pdfminer.six==20231228->pdfplumber) (2.22)\n",
            "Downloading pdfplumber-0.11.4-py3-none-any.whl (59 kB)\n",
            "\u001b[2K   \u001b[90m━━━━━━━━━━━━━━━━━━━━━━━━━━━━━━━━━━━━━━━━\u001b[0m \u001b[32m59.2/59.2 kB\u001b[0m \u001b[31m4.4 MB/s\u001b[0m eta \u001b[36m0:00:00\u001b[0m\n",
            "\u001b[?25hDownloading pdfminer.six-20231228-py3-none-any.whl (5.6 MB)\n",
            "\u001b[2K   \u001b[90m━━━━━━━━━━━━━━━━━━━━━━━━━━━━━━━━━━━━━━━━\u001b[0m \u001b[32m5.6/5.6 MB\u001b[0m \u001b[31m51.3 MB/s\u001b[0m eta \u001b[36m0:00:00\u001b[0m\n",
            "\u001b[?25hDownloading pypdfium2-4.30.0-py3-none-manylinux_2_17_x86_64.manylinux2014_x86_64.whl (2.8 MB)\n",
            "\u001b[2K   \u001b[90m━━━━━━━━━━━━━━━━━━━━━━━━━━━━━━━━━━━━━━━━\u001b[0m \u001b[32m2.8/2.8 MB\u001b[0m \u001b[31m76.0 MB/s\u001b[0m eta \u001b[36m0:00:00\u001b[0m\n",
            "\u001b[?25hInstalling collected packages: pypdfium2, pdfminer.six, pdfplumber\n",
            "Successfully installed pdfminer.six-20231228 pdfplumber-0.11.4 pypdfium2-4.30.0\n"
          ]
        }
      ],
      "source": [
        "!pip install pdfplumber beautifulsoup4 requests pandas\n"
      ]
    },
    {
      "cell_type": "code",
      "source": [
        "from google.colab import files\n",
        "\n",
        "uploaded = files.upload()\n"
      ],
      "metadata": {
        "colab": {
          "base_uri": "https://localhost:8080/",
          "height": 307
        },
        "id": "QSyMVNT2YRDP",
        "outputId": "8e6ee609-816e-4c2e-9355-14629de7fd86"
      },
      "execution_count": 2,
      "outputs": [
        {
          "output_type": "display_data",
          "data": {
            "text/plain": [
              "<IPython.core.display.HTML object>"
            ],
            "text/html": [
              "\n",
              "     <input type=\"file\" id=\"files-cc2603d4-4648-4cb5-be94-88afdf5e6dce\" name=\"files[]\" multiple disabled\n",
              "        style=\"border:none\" />\n",
              "     <output id=\"result-cc2603d4-4648-4cb5-be94-88afdf5e6dce\">\n",
              "      Upload widget is only available when the cell has been executed in the\n",
              "      current browser session. Please rerun this cell to enable.\n",
              "      </output>\n",
              "      <script>// Copyright 2017 Google LLC\n",
              "//\n",
              "// Licensed under the Apache License, Version 2.0 (the \"License\");\n",
              "// you may not use this file except in compliance with the License.\n",
              "// You may obtain a copy of the License at\n",
              "//\n",
              "//      http://www.apache.org/licenses/LICENSE-2.0\n",
              "//\n",
              "// Unless required by applicable law or agreed to in writing, software\n",
              "// distributed under the License is distributed on an \"AS IS\" BASIS,\n",
              "// WITHOUT WARRANTIES OR CONDITIONS OF ANY KIND, either express or implied.\n",
              "// See the License for the specific language governing permissions and\n",
              "// limitations under the License.\n",
              "\n",
              "/**\n",
              " * @fileoverview Helpers for google.colab Python module.\n",
              " */\n",
              "(function(scope) {\n",
              "function span(text, styleAttributes = {}) {\n",
              "  const element = document.createElement('span');\n",
              "  element.textContent = text;\n",
              "  for (const key of Object.keys(styleAttributes)) {\n",
              "    element.style[key] = styleAttributes[key];\n",
              "  }\n",
              "  return element;\n",
              "}\n",
              "\n",
              "// Max number of bytes which will be uploaded at a time.\n",
              "const MAX_PAYLOAD_SIZE = 100 * 1024;\n",
              "\n",
              "function _uploadFiles(inputId, outputId) {\n",
              "  const steps = uploadFilesStep(inputId, outputId);\n",
              "  const outputElement = document.getElementById(outputId);\n",
              "  // Cache steps on the outputElement to make it available for the next call\n",
              "  // to uploadFilesContinue from Python.\n",
              "  outputElement.steps = steps;\n",
              "\n",
              "  return _uploadFilesContinue(outputId);\n",
              "}\n",
              "\n",
              "// This is roughly an async generator (not supported in the browser yet),\n",
              "// where there are multiple asynchronous steps and the Python side is going\n",
              "// to poll for completion of each step.\n",
              "// This uses a Promise to block the python side on completion of each step,\n",
              "// then passes the result of the previous step as the input to the next step.\n",
              "function _uploadFilesContinue(outputId) {\n",
              "  const outputElement = document.getElementById(outputId);\n",
              "  const steps = outputElement.steps;\n",
              "\n",
              "  const next = steps.next(outputElement.lastPromiseValue);\n",
              "  return Promise.resolve(next.value.promise).then((value) => {\n",
              "    // Cache the last promise value to make it available to the next\n",
              "    // step of the generator.\n",
              "    outputElement.lastPromiseValue = value;\n",
              "    return next.value.response;\n",
              "  });\n",
              "}\n",
              "\n",
              "/**\n",
              " * Generator function which is called between each async step of the upload\n",
              " * process.\n",
              " * @param {string} inputId Element ID of the input file picker element.\n",
              " * @param {string} outputId Element ID of the output display.\n",
              " * @return {!Iterable<!Object>} Iterable of next steps.\n",
              " */\n",
              "function* uploadFilesStep(inputId, outputId) {\n",
              "  const inputElement = document.getElementById(inputId);\n",
              "  inputElement.disabled = false;\n",
              "\n",
              "  const outputElement = document.getElementById(outputId);\n",
              "  outputElement.innerHTML = '';\n",
              "\n",
              "  const pickedPromise = new Promise((resolve) => {\n",
              "    inputElement.addEventListener('change', (e) => {\n",
              "      resolve(e.target.files);\n",
              "    });\n",
              "  });\n",
              "\n",
              "  const cancel = document.createElement('button');\n",
              "  inputElement.parentElement.appendChild(cancel);\n",
              "  cancel.textContent = 'Cancel upload';\n",
              "  const cancelPromise = new Promise((resolve) => {\n",
              "    cancel.onclick = () => {\n",
              "      resolve(null);\n",
              "    };\n",
              "  });\n",
              "\n",
              "  // Wait for the user to pick the files.\n",
              "  const files = yield {\n",
              "    promise: Promise.race([pickedPromise, cancelPromise]),\n",
              "    response: {\n",
              "      action: 'starting',\n",
              "    }\n",
              "  };\n",
              "\n",
              "  cancel.remove();\n",
              "\n",
              "  // Disable the input element since further picks are not allowed.\n",
              "  inputElement.disabled = true;\n",
              "\n",
              "  if (!files) {\n",
              "    return {\n",
              "      response: {\n",
              "        action: 'complete',\n",
              "      }\n",
              "    };\n",
              "  }\n",
              "\n",
              "  for (const file of files) {\n",
              "    const li = document.createElement('li');\n",
              "    li.append(span(file.name, {fontWeight: 'bold'}));\n",
              "    li.append(span(\n",
              "        `(${file.type || 'n/a'}) - ${file.size} bytes, ` +\n",
              "        `last modified: ${\n",
              "            file.lastModifiedDate ? file.lastModifiedDate.toLocaleDateString() :\n",
              "                                    'n/a'} - `));\n",
              "    const percent = span('0% done');\n",
              "    li.appendChild(percent);\n",
              "\n",
              "    outputElement.appendChild(li);\n",
              "\n",
              "    const fileDataPromise = new Promise((resolve) => {\n",
              "      const reader = new FileReader();\n",
              "      reader.onload = (e) => {\n",
              "        resolve(e.target.result);\n",
              "      };\n",
              "      reader.readAsArrayBuffer(file);\n",
              "    });\n",
              "    // Wait for the data to be ready.\n",
              "    let fileData = yield {\n",
              "      promise: fileDataPromise,\n",
              "      response: {\n",
              "        action: 'continue',\n",
              "      }\n",
              "    };\n",
              "\n",
              "    // Use a chunked sending to avoid message size limits. See b/62115660.\n",
              "    let position = 0;\n",
              "    do {\n",
              "      const length = Math.min(fileData.byteLength - position, MAX_PAYLOAD_SIZE);\n",
              "      const chunk = new Uint8Array(fileData, position, length);\n",
              "      position += length;\n",
              "\n",
              "      const base64 = btoa(String.fromCharCode.apply(null, chunk));\n",
              "      yield {\n",
              "        response: {\n",
              "          action: 'append',\n",
              "          file: file.name,\n",
              "          data: base64,\n",
              "        },\n",
              "      };\n",
              "\n",
              "      let percentDone = fileData.byteLength === 0 ?\n",
              "          100 :\n",
              "          Math.round((position / fileData.byteLength) * 100);\n",
              "      percent.textContent = `${percentDone}% done`;\n",
              "\n",
              "    } while (position < fileData.byteLength);\n",
              "  }\n",
              "\n",
              "  // All done.\n",
              "  yield {\n",
              "    response: {\n",
              "      action: 'complete',\n",
              "    }\n",
              "  };\n",
              "}\n",
              "\n",
              "scope.google = scope.google || {};\n",
              "scope.google.colab = scope.google.colab || {};\n",
              "scope.google.colab._files = {\n",
              "  _uploadFiles,\n",
              "  _uploadFilesContinue,\n",
              "};\n",
              "})(self);\n",
              "</script> "
            ]
          },
          "metadata": {}
        },
        {
          "output_type": "stream",
          "name": "stdout",
          "text": [
            "Saving Addendum 1 RFP JA-207652 Student and Staff Computing Devices.pdf to Addendum 1 RFP JA-207652 Student and Staff Computing Devices.pdf\n",
            "Saving Addendum 2 RFP JA-207652 Student and Staff Computing Devices.pdf to Addendum 2 RFP JA-207652 Student and Staff Computing Devices.pdf\n",
            "Saving Contract_Affidavit.pdf to Contract_Affidavit.pdf\n",
            "Saving Dell_Laptop_Specs.pdf to Dell_Laptop_Specs.pdf\n",
            "Saving JA-207652 Student and Staff Computing Devices FINAL.pdf to JA-207652 Student and Staff Computing Devices FINAL.pdf\n",
            "Saving Mercury_Affidavit.pdf to Mercury_Affidavit.pdf\n",
            "Saving PORFP_-_Dell_Laptop_Final.pdf to PORFP_-_Dell_Laptop_Final.pdf\n"
          ]
        }
      ]
    },
    {
      "cell_type": "code",
      "source": [
        "import os\n",
        "\n",
        "# Create necessary folders\n",
        "os.makedirs('/content/Emplay_Assignment/input/PDFs', exist_ok=True)\n",
        "os.makedirs('/content/Emplay_Assignment/input/HTMLs', exist_ok=True)\n",
        "\n",
        "# Move uploaded files to respective folders\n",
        "for filename in uploaded.keys():\n",
        "    if filename.endswith('.pdf'):\n",
        "        os.rename(filename, f'/content/Emplay_Assignment/input/PDFs/{filename}')\n",
        "    elif filename.endswith('.html'):\n",
        "        os.rename(filename, f'/content/Emplay_Assignment/input/HTMLs/{filename}')\n"
      ],
      "metadata": {
        "id": "xGc7TmgdZkBO"
      },
      "execution_count": 3,
      "outputs": []
    },
    {
      "cell_type": "code",
      "source": [
        "!ls /content/Emplay_Assignment/input/PDFs/\n"
      ],
      "metadata": {
        "colab": {
          "base_uri": "https://localhost:8080/"
        },
        "id": "fz7JJHfUb-uP",
        "outputId": "1daa9cd9-84b7-43b2-e68c-c04cb05b3b6f"
      },
      "execution_count": 6,
      "outputs": [
        {
          "output_type": "stream",
          "name": "stdout",
          "text": [
            "'Addendum 1 RFP JA-207652 Student and Staff Computing Devices.pdf'\n",
            "'Addendum 2 RFP JA-207652 Student and Staff Computing Devices.pdf'\n",
            " Contract_Affidavit.pdf\n",
            " Dell_Laptop_Specs.pdf\n",
            "'JA-207652 Student and Staff Computing Devices FINAL.pdf'\n",
            " Mercury_Affidavit.pdf\n",
            " PORFP_-_Dell_Laptop_Final.pdf\n"
          ]
        }
      ]
    },
    {
      "cell_type": "code",
      "source": [
        "import pdfplumber\n",
        "\n",
        "def extract_text_from_pdf(pdf_path):\n",
        "    text = \"\"\n",
        "    with pdfplumber.open(pdf_path) as pdf:\n",
        "        for page in pdf.pages:\n",
        "            text += page.extract_text() + \"\\n\"\n",
        "    return text\n",
        "\n",
        "# Example usage: Extract text from the 'Addendum 1' PDF\n",
        "pdf_path = '/content/Emplay_Assignment/input/PDFs/Addendum 1 RFP JA-207652 Student and Staff Computing Devices.pdf'  # Updated file path\n",
        "print(f\"Processing file: {pdf_path}\")\n",
        "\n",
        "# Extract text from the PDF\n",
        "pdf_text = extract_text_from_pdf(pdf_path)\n",
        "\n",
        "# Print the first 1000 characters of the extracted text\n",
        "print(pdf_text[:1000])\n"
      ],
      "metadata": {
        "colab": {
          "base_uri": "https://localhost:8080/"
        },
        "id": "Q6O7zfeLgDHw",
        "outputId": "7515c657-8979-47db-bd7e-c40e3174ea32"
      },
      "execution_count": 13,
      "outputs": [
        {
          "output_type": "stream",
          "name": "stdout",
          "text": [
            "Processing file: /content/Emplay_Assignment/input/PDFs/Addendum 1 RFP JA-207652 Student and Staff Computing Devices.pdf\n",
            "ADDENDUM No. 1\n",
            "RFP JA-207652 Student and Staff Computing Devices\n",
            "The Purpose of this Addendum is to provide responses to the vendors’ questions related to this RFP.\n",
            "1. The Display monitor – non-Touch you are asking for 3.1 USB port. Are you ok with 3.0 or do you\n",
            "need 3.1?\n",
            "Answer: USB 3.1 is a minimum requirement.\n",
            "2. Are you ok with 3.2 USB port on the display?\n",
            "Answer: A higher specification is permissible.\n",
            "3. When are you going to award this?\n",
            "Answer: This RFP is anticipated to be awarded at the August board meeting.\n",
            "4. When do you need these delivered by?\n",
            "Answer: Dallas ISD is anticipating requesting quotes for different projects from awarded\n",
            "vendors starting in September of 2024.\n",
            "5. What types of funds are you going to use?\n",
            "Answer: Dallas ISD will primarily be using bond-funded money to purchase devices.\n",
            "6. Reference Page 3/40: All deliveries and deployments must incorporate white glove services,\n",
            "which include asset decaling, asset reporting, etching, and delivery to varied locations.\n"
          ]
        }
      ]
    },
    {
      "cell_type": "code",
      "source": [
        "import os\n",
        "\n",
        "# Loop over all PDF files in the directory and extract text from each\n",
        "pdf_folder = '/content/Emplay_Assignment/input/PDFs/'\n",
        "pdf_files = [f for f in os.listdir(pdf_folder) if f.endswith('.pdf')]\n",
        "\n",
        "# Loop through each PDF file\n",
        "for pdf_file in pdf_files:\n",
        "    pdf_path = os.path.join(pdf_folder, pdf_file)\n",
        "    print(f\"Processing file: {pdf_path}\")\n",
        "    pdf_text = extract_text_from_pdf(pdf_path)\n",
        "    print(pdf_text[:1000])  # Print first 1000 characters of the extracted text\n"
      ],
      "metadata": {
        "colab": {
          "base_uri": "https://localhost:8080/"
        },
        "id": "L52zq14JhQ9d",
        "outputId": "159e301c-1107-41d0-9101-8a2b2574f290"
      },
      "execution_count": 14,
      "outputs": [
        {
          "output_type": "stream",
          "name": "stdout",
          "text": [
            "Processing file: /content/Emplay_Assignment/input/PDFs/Dell_Laptop_Specs.pdf\n",
            "SI# CC7802 Dell Latitude 5550\n",
            "SKU\n",
            "Description\n",
            "210-BLYZ\n",
            "Dell Latitude 5550 XCTO Base\n",
            "Intel Core Ultra 5 125U processor (12 MB cache, 12 cores, 14 379-BFNZ\n",
            "threads, up to 4.3 GHz Turbo)\n",
            "Windows 11 Pro, English, Brazilian Portuguese PT-BR, French, 619-ARSB\n",
            "Spanish\n",
            "658-BCSB\n",
            "No Microsoft Office License Included - 30 day Trial Offer Only\n",
            "338-CNRG\n",
            "Assembly Base MTL 5550\n",
            "338-CNRK\n",
            "Integrated Intel graphics for Intel Core Ultra 5 125U processor\n",
            "321-BKTQ\n",
            "Latitude 5550 Bottom Door, MTL U15\n",
            "409-BCXY\n",
            "Intel Rapid Storage Technology Driver\n",
            "631-BBSQ\n",
            "Intel vPro Management Disabled\n",
            "16 GB: 2 x 8 GB, DDR5, 5600 MT/s (5200 MT/s with 13th Gen Intel 370-BBTL\n",
            "Core processors)\n",
            "400-BRFT\n",
            "256 GB, M.2 2230, TLC, Gen 4 PCIe NVMe, SSD\n",
            "15.6\", FHD 1920x1080, 60Hz, IPS, Non-Touch, AG, 250 nit, 45% 391-BJHB\n",
            "NTSC, FHD Cam\n",
            "583-BLNH\n",
            "English US backlit AI hotkey keyboard with numeric keypad, 99-key\n",
            "555-BKQC\n",
            "Intel AX211 WLAN Driver\n",
            "Intel Wi-Fi 6E (6 where 6E unavailable) AX211, 2x2, 802.11ax, 555-BKLQ\n",
            "Bluetooth 5.3 wireless c\n",
            "Processing file: /content/Emplay_Assignment/input/PDFs/PORFP_-_Dell_Laptop_Final.pdf\n",
            "Purchase Order Request for Proposals (PORFP)\n",
            "Hardware Master Contract\n",
            "Section 1 –General Information\n",
            "PORFP Number: #E20P4600040\n",
            "eMMA Project Number: BPM044557\n",
            "PORFP Type: Fixed Price\n",
            "Functional Area/s (FA) FA I (Printers and Associated Peripherals)\n",
            "for this PORFP: FA V (Manufacturer’s Extended Warranty)\n",
            "Manufacturer Name Dell\n",
            "Designated Small Yes\n",
            "Business Reserve?(SBR):\n",
            "Minority Business Enterprise (MBE) Goal for FA IV Below 0 %\n",
            "(See “Hardware Master Contract MBE Participation Worksheet”):\n",
            "PORFP Issue Date: 05/24/2024 PROPOSAL DUE 06/10/2024\n",
            "mm/dd/yyyy DATE and TIME:\n",
            "Place of Performance: MD State Treasurer's Office\n",
            "80 Clavert Street\n",
            "Annapolis MD 21401\n",
            "Special Instructions: LIMITED TO MASTER CONTRACTORS\n",
            "Only Master Contractors that are awarded a contract under the\n",
            "Desktop, Laptop and Tablet 2015 Master Contract,\n",
            "060B5400007, are eligible to submit a bid in response to this\n",
            "secondary competition Purchase Order Request for Proposal\n",
            "(PORFP).\n",
            "SMALL BUSINESS RESERVE (SBR) PROCUREMENT\n",
            "This i\n",
            "Processing file: /content/Emplay_Assignment/input/PDFs/Addendum 1 RFP JA-207652 Student and Staff Computing Devices.pdf\n",
            "ADDENDUM No. 1\n",
            "RFP JA-207652 Student and Staff Computing Devices\n",
            "The Purpose of this Addendum is to provide responses to the vendors’ questions related to this RFP.\n",
            "1. The Display monitor – non-Touch you are asking for 3.1 USB port. Are you ok with 3.0 or do you\n",
            "need 3.1?\n",
            "Answer: USB 3.1 is a minimum requirement.\n",
            "2. Are you ok with 3.2 USB port on the display?\n",
            "Answer: A higher specification is permissible.\n",
            "3. When are you going to award this?\n",
            "Answer: This RFP is anticipated to be awarded at the August board meeting.\n",
            "4. When do you need these delivered by?\n",
            "Answer: Dallas ISD is anticipating requesting quotes for different projects from awarded\n",
            "vendors starting in September of 2024.\n",
            "5. What types of funds are you going to use?\n",
            "Answer: Dallas ISD will primarily be using bond-funded money to purchase devices.\n",
            "6. Reference Page 3/40: All deliveries and deployments must incorporate white glove services,\n",
            "which include asset decaling, asset reporting, etching, and delivery to varied locations.\n",
            "Processing file: /content/Emplay_Assignment/input/PDFs/Addendum 2 RFP JA-207652 Student and Staff Computing Devices.pdf\n",
            "ADDENDUM No. 2\n",
            "RFP JA-207652 Student and Staff Computing Devices\n",
            "The Purpose of this Addendum is to extend the due date of this RFP.\n",
            "The new due date for this RFP will be July 9, 2024 at 2:00 PM CST.\n",
            "The information in this Addendum is hereby incorporated and made part of any contract awarded\n",
            "pursuant to this solicitation.\n",
            "Please sign this addendum and submit along with your copies of the proposal. ALL OTHER PROVISIONS\n",
            "AND OTHER TERMS AND CONDITIONS REMAIN UNCHANGED. BIDDERS ARE REQUIRED TO\n",
            "ACKNOWLEDGE AND RETURN/SUBMIT A COPY OF THIS ADDENDUM WITH THEIR PROPOSAL.\n",
            "Company Name: Submitter’s Name/Title:\n",
            "Address: City, State and Zip Code:\n",
            "Email Address:\n",
            "Submitter’s Signature: Telephone No.\n",
            "Fax No. 800 # (if available)\n",
            "Date:\n",
            "END OF ADDENDUM\n",
            "Page 1 | 1\n",
            "\n",
            "Processing file: /content/Emplay_Assignment/input/PDFs/Contract_Affidavit.pdf\n",
            "A. AUTHORITY\n",
            "I hereby affirm that I, (name of affiant) am the\n",
            "(title) and duly authorized representative of\n",
            "(name of business entity) and that I possess the legal\n",
            "authority to make this affidavit on behalf of the business for which I am acting.\n",
            "B. CERTIFICATION OF REGISTRATION OR QUALIFICATION WITH THE STATE\n",
            "DEPARTMENT OF ASSESSMENTS AND TAXATION\n",
            "I FURTHER AFFIRM THAT:\n",
            "The business named above is a (check applicable box):\n",
            "(1) Corporation - domestic or foreign;\n",
            "(2) Limited Liability Company - domestic or foreign;\n",
            "(3) Partnership - domestic or foreign;\n",
            "(4) Statutory Trust - domestic or foreign;\n",
            "(5) Sole Proprietorship.\n",
            "and is registered or qualified as required under Maryland Law. I further affirm that the above\n",
            "business is in good standing both in Maryland and (IF APPLICABLE) in the jurisdiction where it is\n",
            "presently organized, and has filed all of its annual reports, together with filing fees, with the\n",
            "Maryland State Department of Assessments and Taxation. The name and address\n",
            "Processing file: /content/Emplay_Assignment/input/PDFs/Mercury_Affidavit.pdf\n",
            "MERCURY AFFIDAVIT\n",
            "AUTHORIZED REPRESENTATIVE THEREBY AFFIRM THAT:\n",
            "I am the _________________ (Title) and the duly authorized representative of\n",
            "_______________________ (Business). I possess the legal authority to make this affidavit on\n",
            "behalf of myself and the business for which I am acting.\n",
            "MERCURY CONTENT INFORMATION:\n",
            "[ ] The product(s) offered do not contain mercury.\n",
            "OR\n",
            "[ ] The product(s) offered do contain mercury.\n",
            "(1) Describe the product or product component that contains\n",
            "mercury.\n",
            "(2) Provide the amount of mercury that is contained in the product\n",
            "or product component. Indicate the unit of measure being used.\n",
            "I ACKNOWLEDGE THAT this affidavit is to be furnished to the procurement officer and may\n",
            "be distributed to units of (1) the State of Maryland; (2) counties or other subdivisions of the State\n",
            "of Maryland; (3) other states; and (4) the federal government. I further acknowledge that this\n",
            "Affidavit is subject to applicable laws of the United States and the State of Maryland, both\n",
            "cr\n",
            "Processing file: /content/Emplay_Assignment/input/PDFs/JA-207652 Student and Staff Computing Devices FINAL.pdf\n",
            "PURCHASING DEPARTMENT\n",
            "9400 North Central Expressway, Suite 1510, Dallas, TX 75231\n",
            "(972)925-4100\n",
            "Request For Proposal 168884\n",
            "JA-207652 Student and Staff Computing Devices\n",
            "Dallas ISD rev 1.0 Page 1 of 40\n",
            "Request For Proposal 168884 JA-207652 Student and Staff Computing Devices\n",
            "Buyer ALZATE, JASMINE Email JALZATE@dallasisd.org\n",
            "1 Header Information\n",
            "1.1 General Information\n",
            "First Advertisement Date/Issue Date 26-MAY-2024 08:00:00\n",
            "Second Advertisement Date 02-JUN-2024 08:00:00\n",
            "Pre-Proposal Meeting 10-JUN-2024 14:00:00\n",
            "Questions Deadline 11-JUN-2024 16:00:00\n",
            "Questions Response from the District 13-JUN-2024 18:00:00\n",
            "Solicitation Due 27-JUN-2024 14:00:00\n",
            "Anticipated Evaluation & Sel 11-JUL-2024 14:00:00\n",
            "Anticipated Approval/Award 22-AUG-2024 18:00:00\n",
            "Pre-Proposal A pre-proposal meeting will be held at 2:00 PM CST via TEAMS video conference on June 10,\n",
            "2024. Please submit (in writing) any questions regarding this RFP. Only written questions will be\n",
            "considered. It is highly encouraged that all pot\n"
          ]
        }
      ]
    },
    {
      "cell_type": "code",
      "source": [
        "import os\n",
        "\n",
        "# Step 1: Create the 'output' directory if it doesn't exist\n",
        "output_dir = '/content/Emplay_Assignment/output'\n",
        "os.makedirs(output_dir, exist_ok=True)  # This creates the folder if it doesn't exist\n",
        "\n",
        "# Step 2: Save the extracted text to a text file inside the 'output' folder\n",
        "with open(f'{output_dir}/extracted_text.txt', 'w') as f:\n",
        "    f.write(pdf_text)\n"
      ],
      "metadata": {
        "id": "deeoiowNlO6-"
      },
      "execution_count": 19,
      "outputs": []
    },
    {
      "cell_type": "code",
      "source": [
        "import re\n",
        "\n",
        "# Example regex patterns\n",
        "email_pattern = r'[a-zA-Z0-9._%+-]+@[a-zA-Z0-9.-]+\\.[a-zA-Z]{2,}'\n",
        "phone_pattern = r'\\b\\d{10}\\b'\n",
        "\n",
        "# Extract emails and phone numbers from the text\n",
        "emails = re.findall(email_pattern, pdf_text)\n",
        "phone_numbers = re.findall(phone_pattern, pdf_text)\n",
        "\n",
        "# Print results (or you can store this in a structured format)\n",
        "print(f\"Emails found: {emails}\")\n",
        "print(f\"Phone numbers found: {phone_numbers}\")\n"
      ],
      "metadata": {
        "colab": {
          "base_uri": "https://localhost:8080/"
        },
        "id": "4hB-rQi6lSh6",
        "outputId": "09614ecb-7b01-4345-c747-d16d309998c1"
      },
      "execution_count": 20,
      "outputs": [
        {
          "output_type": "stream",
          "name": "stdout",
          "text": [
            "Emails found: ['JALZATE@dallasisd.org', 'DGORACLEFDTEAM@DALLASISD.ORG', 'shewilli@dallasisd.org', 'DGOracleFDTeam@dallasisd.org', 'shewilli@dallasisd.org', 'DGOracleFDTeam@dallasisd.org']\n",
            "Phone numbers found: ['9729254100', '9729254100']\n"
          ]
        }
      ]
    },
    {
      "cell_type": "code",
      "source": [
        "import json\n",
        "\n",
        "# Example structured data (You will customize this based on your extraction logic)\n",
        "structured_data = {\n",
        "    \"pdf_files\": [\n",
        "        {\"filename\": pdf_file, \"emails\": emails, \"phone_numbers\": phone_numbers}\n",
        "    ]\n",
        "}\n",
        "\n",
        "# Save structured data to a JSON file\n",
        "json_output_file = os.path.join(output_dir, 'structured_data.json')\n",
        "with open(json_output_file, 'w') as json_file:\n",
        "    json.dump(structured_data, json_file, indent=4)\n",
        "\n",
        "print(f\"Structured data saved to {json_output_file}\")\n"
      ],
      "metadata": {
        "colab": {
          "base_uri": "https://localhost:8080/"
        },
        "id": "zQ1Evp_foSTk",
        "outputId": "f86eff37-9190-4e7c-8037-3d03805a56e6"
      },
      "execution_count": 21,
      "outputs": [
        {
          "output_type": "stream",
          "name": "stdout",
          "text": [
            "Structured data saved to /content/Emplay_Assignment/output/structured_data.json\n"
          ]
        }
      ]
    },
    {
      "cell_type": "code",
      "source": [
        "import csv\n",
        "\n",
        "# Example data to save in CSV format\n",
        "csv_data = [\n",
        "    [\"Filename\", \"Emails\", \"Phone Numbers\"],\n",
        "    [pdf_file, \", \".join(emails), \", \".join(phone_numbers)]\n",
        "]\n",
        "\n",
        "# Write to CSV file\n",
        "csv_output_file = os.path.join(output_dir, 'structured_data.csv')\n",
        "with open(csv_output_file, 'w', newline='') as csv_file:\n",
        "    writer = csv.writer(csv_file)\n",
        "    writer.writerows(csv_data)\n",
        "\n",
        "print(f\"CSV data saved to {csv_output_file}\")\n"
      ],
      "metadata": {
        "colab": {
          "base_uri": "https://localhost:8080/"
        },
        "id": "9ac4y5ZUoWi_",
        "outputId": "c86e6a9e-8846-4803-b4f6-2cdfae9eb988"
      },
      "execution_count": 22,
      "outputs": [
        {
          "output_type": "stream",
          "name": "stdout",
          "text": [
            "CSV data saved to /content/Emplay_Assignment/output/structured_data.csv\n"
          ]
        }
      ]
    },
    {
      "cell_type": "code",
      "source": [
        "import re\n",
        "\n",
        "def extract_field(text, field_name):\n",
        "    # Customize regex patterns based on document structure\n",
        "    pattern = rf'{field_name}:\\s*(.*?)\\n'\n",
        "    match = re.search(pattern, text)\n",
        "    return match.group(1) if match else None\n"
      ],
      "metadata": {
        "id": "ZHx5K5cyqpMH"
      },
      "execution_count": 23,
      "outputs": []
    },
    {
      "cell_type": "code",
      "source": [
        "structured_data = {\n",
        "    \"Bid Number\": \"JA-12345\",\n",
        "    \"Title\": \"Laptop Purchase\",\n",
        "    \"Due Date\": \"2024-12-31\",\n",
        "    \"Bid Submission Type\": \"Online\",\n",
        "    \"Term of Bid\": \"1 Year\",\n",
        "    \"Pre Bid Meeting\": \"2024-12-01\",\n",
        "    \"Installation\": \"Yes\",\n",
        "    \"Bid Bond Requirement\": \"No\",\n",
        "    \"Delivery Date\": \"2025-01-15\",\n",
        "    \"Payment Terms\": \"Net 30\",\n",
        "    \"Any Additional Documentation Required\": \"No\",\n",
        "    \"MFG for Registration\": \"Dell\",\n",
        "    \"Contract or Cooperative to use\": \"Yes\",\n",
        "    \"Model_no\": \"XYZ-123\",\n",
        "    \"Part_no\": \"12345-67890\",\n",
        "    \"Product\": \"Laptop\",\n",
        "    \"contact_info\": \"contact@company.com\",\n",
        "    \"company_name\": \"Tech Solutions\",\n",
        "    \"Bid Summary\": \"A bid for supplying laptops to schools\",\n",
        "    \"Product Specification\": \"14-inch screen, 8GB RAM, 512GB SSD\"\n",
        "}\n"
      ],
      "metadata": {
        "id": "BrzP0FIps1xk"
      },
      "execution_count": 24,
      "outputs": []
    },
    {
      "cell_type": "code",
      "source": [
        "import json\n",
        "\n",
        "# Define the output file path\n",
        "output_path = '/content/Emplay_Assignment/output/structured_data.json'\n",
        "\n",
        "# Save the structured data to the JSON file\n",
        "with open(output_path, 'w') as json_file:\n",
        "    json.dump(structured_data, json_file, indent=4)\n",
        "\n",
        "print(f\"Structured data saved to {output_path}\")\n"
      ],
      "metadata": {
        "colab": {
          "base_uri": "https://localhost:8080/"
        },
        "id": "v0PtLm8ts3y-",
        "outputId": "7e9ca573-af6a-47a2-8566-b8cafbf25a91"
      },
      "execution_count": 25,
      "outputs": [
        {
          "output_type": "stream",
          "name": "stdout",
          "text": [
            "Structured data saved to /content/Emplay_Assignment/output/structured_data.json\n"
          ]
        }
      ]
    },
    {
      "cell_type": "code",
      "source": [
        "from google.colab import files\n",
        "\n",
        "# Download the JSON file\n",
        "files.download(output_path)\n"
      ],
      "metadata": {
        "colab": {
          "base_uri": "https://localhost:8080/",
          "height": 17
        },
        "id": "M65e54yws6z8",
        "outputId": "013cf091-38f3-4197-e3bf-53c0556d83c3"
      },
      "execution_count": 26,
      "outputs": [
        {
          "output_type": "display_data",
          "data": {
            "text/plain": [
              "<IPython.core.display.Javascript object>"
            ],
            "application/javascript": [
              "\n",
              "    async function download(id, filename, size) {\n",
              "      if (!google.colab.kernel.accessAllowed) {\n",
              "        return;\n",
              "      }\n",
              "      const div = document.createElement('div');\n",
              "      const label = document.createElement('label');\n",
              "      label.textContent = `Downloading \"${filename}\": `;\n",
              "      div.appendChild(label);\n",
              "      const progress = document.createElement('progress');\n",
              "      progress.max = size;\n",
              "      div.appendChild(progress);\n",
              "      document.body.appendChild(div);\n",
              "\n",
              "      const buffers = [];\n",
              "      let downloaded = 0;\n",
              "\n",
              "      const channel = await google.colab.kernel.comms.open(id);\n",
              "      // Send a message to notify the kernel that we're ready.\n",
              "      channel.send({})\n",
              "\n",
              "      for await (const message of channel.messages) {\n",
              "        // Send a message to notify the kernel that we're ready.\n",
              "        channel.send({})\n",
              "        if (message.buffers) {\n",
              "          for (const buffer of message.buffers) {\n",
              "            buffers.push(buffer);\n",
              "            downloaded += buffer.byteLength;\n",
              "            progress.value = downloaded;\n",
              "          }\n",
              "        }\n",
              "      }\n",
              "      const blob = new Blob(buffers, {type: 'application/binary'});\n",
              "      const a = document.createElement('a');\n",
              "      a.href = window.URL.createObjectURL(blob);\n",
              "      a.download = filename;\n",
              "      div.appendChild(a);\n",
              "      a.click();\n",
              "      div.remove();\n",
              "    }\n",
              "  "
            ]
          },
          "metadata": {}
        },
        {
          "output_type": "display_data",
          "data": {
            "text/plain": [
              "<IPython.core.display.Javascript object>"
            ],
            "application/javascript": [
              "download(\"download_9aa861f9-d700-48e4-8d3e-eb6ee2e1c50d\", \"structured_data.json\", 747)"
            ]
          },
          "metadata": {}
        }
      ]
    }
  ]
}